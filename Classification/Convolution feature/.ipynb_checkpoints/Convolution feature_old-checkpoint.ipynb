{
 "cells": [
  {
   "cell_type": "markdown",
   "metadata": {},
   "source": [
    "# Convolution Feature"
   ]
  },
  {
   "cell_type": "code",
   "execution_count": 99,
   "metadata": {
    "collapsed": false
   },
   "outputs": [],
   "source": [
    "import numpy as np\n",
    "from sklearn.svm import SVC\n",
    "from sklearn.tree import DecisionTreeClassifier\n",
    "from sklearn.metrics import accuracy_score\n",
    "from sklearn.preprocessing import normalize"
   ]
  },
  {
   "cell_type": "markdown",
   "metadata": {},
   "source": [
    "# Data Import"
   ]
  },
  {
   "cell_type": "code",
   "execution_count": 170,
   "metadata": {
    "collapsed": false
   },
   "outputs": [
    {
     "name": "stdout",
     "output_type": "stream",
     "text": [
      "Sony : 200\n",
      "Canon:  576\n"
     ]
    }
   ],
   "source": [
    "base=\"Feature-\"\n",
    "sony_data=[]\n",
    "for i in range(1,13):\n",
    "    oneFeature=[]\n",
    "    f=open(\"./sony/\"+base+str(i)+\".csv\",'r')\n",
    "    for line in f:\n",
    "        line=line[1:-1]\n",
    "        line=line.split(',')\n",
    "        for each in line:\n",
    "            oneFeature.append(each)\n",
    "    sony_data.append(oneFeature)\n",
    "    f.close()\n",
    "    \n",
    "canon_data=[]\n",
    "for i in range(1,13):\n",
    "    oneFeature=[]\n",
    "    f=open(\"./canon/\"+base+str(i)+\".csv\",'r')\n",
    "    for line in f:\n",
    "        line=line[1:-1]\n",
    "        line=line.split(',')\n",
    "        for each in line:\n",
    "            oneFeature.append(each)\n",
    "    canon_data.append(oneFeature)\n",
    "    f.close()\n",
    "print \"Sony :\",len(sony_data[1])\n",
    "print \"Canon: \",len(canon_data[1])"
   ]
  },
  {
   "cell_type": "markdown",
   "metadata": {},
   "source": [
    "# converting in feature form"
   ]
  },
  {
   "cell_type": "code",
   "execution_count": 171,
   "metadata": {
    "collapsed": false
   },
   "outputs": [],
   "source": [
    "sony_f=[]\n",
    "for data_no in range(len(sony_data[1])):\n",
    "    single_data_set=[]\n",
    "    for feature_no in range(len(sony_data)):\n",
    "        single_data_set.append(sony_data[feature_no][data_no])\n",
    "    sony_f.append(single_data_set)\n",
    "        \n",
    "canon_f=[]\n",
    "for data_no in range(len(canon_data[1])):\n",
    "    single_data_set=[]\n",
    "    for feature_no in range(len(canon_data)):\n",
    "        single_data_set.append(canon_data[feature_no][data_no])\n",
    "    canon_f.append(single_data_set)\n",
    "        "
   ]
  },
  {
   "cell_type": "markdown",
   "metadata": {},
   "source": [
    "### Fix Error need to execute iteratively to get data Without Nan"
   ]
  },
  {
   "cell_type": "code",
   "execution_count": 181,
   "metadata": {
    "collapsed": false
   },
   "outputs": [
    {
     "name": "stdout",
     "output_type": "stream",
     "text": [
      "Sony : 112\n",
      "Canon:  543\n"
     ]
    }
   ],
   "source": [
    "#Drop dataset with NaN values\n",
    "mark=[]\n",
    "for dataset in range(len(sony_f)):\n",
    "    for feature in range(len(sony_f[1])):\n",
    "        if sony_f[dataset][feature] == \"NaN\":\n",
    "            mark.append(dataset)\n",
    "            \n",
    "#delete marked\n",
    "mark=set(mark)\n",
    "for index in mark:\n",
    "    del sony_f[index]\n",
    "\n",
    "mark=[]\n",
    "for dataset in range(len(canon_f)):\n",
    "    for feature in range(len(canon_f[1])):\n",
    "        if canon_f[dataset][feature] == \"NaN\":\n",
    "            mark.append(dataset)\n",
    "#delete marked\n",
    "mark=set(mark)\n",
    "for index in mark:\n",
    "    del canon_f[index]\n",
    "#del mark  \n",
    "#del sony_data\n",
    "#del canon_data\n",
    "print \"Sony :\",len(sony_f)\n",
    "print \"Canon: \",len(canon_f)"
   ]
  },
  {
   "cell_type": "code",
   "execution_count": 185,
   "metadata": {
    "collapsed": false
   },
   "outputs": [],
   "source": [
    "#convert to float\n",
    "for i in range(len(sony_f)):\n",
    "    sony_f[i]=[float(x) for x in sony_f[i]]\n",
    "for i in range(len(canon_f)):\n",
    "    canon_f[i]=[float(x) for x in canon_f[i]]"
   ]
  },
  {
   "cell_type": "code",
   "execution_count": null,
   "metadata": {
    "collapsed": false
   },
   "outputs": [],
   "source": []
  },
  {
   "cell_type": "markdown",
   "metadata": {},
   "source": [
    "#  Create Training & Test Set"
   ]
  },
  {
   "cell_type": "code",
   "execution_count": 189,
   "metadata": {
    "collapsed": false
   },
   "outputs": [
    {
     "name": "stdout",
     "output_type": "stream",
     "text": [
      "train_x : 555\n",
      "train_y : 555\n",
      "test_x : 100\n",
      "test_y : 100\n"
     ]
    }
   ],
   "source": [
    "#Train\n",
    "train_x=sony_f[25:]+canon_f[75:]\n",
    "#normalise\n",
    "train_x=normalize(train_x, norm='l2', axis=1, copy=True)\n",
    "train_y=[0]*len(sony_f[25:]) + [1]*len(canon_f[75:])\n",
    "print \"train_x :\",len(train_x)\n",
    "print \"train_y :\",len(train_y)\n",
    "\n",
    "#Test\n",
    "test_x=sony_f[:25]+canon_f[:75]\n",
    "test_x=normalize(test_x, norm='l2', axis=1, copy=True)\n",
    "test_y=[0]*25 + [1]*75\n",
    "print \"test_x :\",len(test_x)\n",
    "print \"test_y :\",len(test_y)"
   ]
  },
  {
   "cell_type": "markdown",
   "metadata": {},
   "source": [
    "# SVM Classifier"
   ]
  },
  {
   "cell_type": "code",
   "execution_count": 190,
   "metadata": {
    "collapsed": false
   },
   "outputs": [],
   "source": [
    "# clsf = classifier\n",
    "clsf=SVC(kernel='rbf',gamma=10,C=1) #SVM Classier\n",
    "svm={} #store accuracy data for plotting"
   ]
  },
  {
   "cell_type": "code",
   "execution_count": 191,
   "metadata": {
    "collapsed": false
   },
   "outputs": [
    {
     "data": {
      "text/plain": [
       "SVC(C=1, cache_size=200, class_weight=None, coef0=0.0,\n",
       "  decision_function_shape=None, degree=3, gamma=10, kernel='rbf',\n",
       "  max_iter=-1, probability=False, random_state=None, shrinking=True,\n",
       "  tol=0.001, verbose=False)"
      ]
     },
     "execution_count": 191,
     "metadata": {},
     "output_type": "execute_result"
    }
   ],
   "source": [
    "#training\n",
    "clsf.fit(train_x, train_y)"
   ]
  },
  {
   "cell_type": "markdown",
   "metadata": {},
   "source": [
    "# Testing on training Data"
   ]
  },
  {
   "cell_type": "code",
   "execution_count": 192,
   "metadata": {
    "collapsed": false
   },
   "outputs": [
    {
     "name": "stdout",
     "output_type": "stream",
     "text": [
      "Accuracy Check  84.3243243243 %\n"
     ]
    }
   ],
   "source": [
    "#Now testing for trainig data\n",
    "#Now predict values for given classifier\n",
    "prediction = clsf.predict(train_x)\n",
    "svm[\"trainig_set\"]=accuracy_score(prediction,train_y)*100\n",
    "print 'Accuracy Check ',svm[\"trainig_set\"],'%'\n"
   ]
  },
  {
   "cell_type": "markdown",
   "metadata": {},
   "source": [
    "# Testing on test Data"
   ]
  },
  {
   "cell_type": "code",
   "execution_count": 193,
   "metadata": {
    "collapsed": false
   },
   "outputs": [
    {
     "name": "stdout",
     "output_type": "stream",
     "text": [
      "Accuracy Check  75.0 %\n"
     ]
    }
   ],
   "source": [
    "prediction = clsf.predict(test_x)\n",
    "svm[\"test_set\"]=accuracy_score(prediction,test_y)*100\n",
    "print 'Accuracy Check ',svm[\"test_set\"],'%'"
   ]
  },
  {
   "cell_type": "markdown",
   "metadata": {},
   "source": [
    "#  Decision Tree Classifier"
   ]
  },
  {
   "cell_type": "code",
   "execution_count": 286,
   "metadata": {
    "collapsed": false
   },
   "outputs": [
    {
     "data": {
      "text/plain": [
       "DecisionTreeClassifier(class_weight=None, criterion='gini', max_depth=4,\n",
       "            max_features=None, max_leaf_nodes=None, min_samples_leaf=1,\n",
       "            min_samples_split=10, min_weight_fraction_leaf=0.0,\n",
       "            presort=False, random_state=None, splitter='best')"
      ]
     },
     "execution_count": 286,
     "metadata": {},
     "output_type": "execute_result"
    }
   ],
   "source": [
    "decision={}\n",
    "clf=DecisionTreeClassifier(max_depth=4,min_samples_split=10)\n",
    "clf"
   ]
  },
  {
   "cell_type": "code",
   "execution_count": 287,
   "metadata": {
    "collapsed": true
   },
   "outputs": [],
   "source": [
    "#train\n",
    "clf = clf.fit(train_x, train_y)\n"
   ]
  },
  {
   "cell_type": "markdown",
   "metadata": {},
   "source": [
    "#  Testing accuracy on training data"
   ]
  },
  {
   "cell_type": "code",
   "execution_count": 288,
   "metadata": {
    "collapsed": false
   },
   "outputs": [
    {
     "name": "stdout",
     "output_type": "stream",
     "text": [
      "Accuracy Check  93.5135135135 %\n"
     ]
    }
   ],
   "source": [
    "#Now testing for trainig data\n",
    "#Now predict values for given classifier\n",
    "prediction = clf.predict(train_x)\n",
    "decision[\"trainig_set\"]=accuracy_score(prediction,train_y)*100\n",
    "print 'Accuracy Check ',decision[\"trainig_set\"],'%'"
   ]
  },
  {
   "cell_type": "markdown",
   "metadata": {},
   "source": [
    "# Testing accuracy on Testing data"
   ]
  },
  {
   "cell_type": "code",
   "execution_count": 289,
   "metadata": {
    "collapsed": false
   },
   "outputs": [
    {
     "name": "stdout",
     "output_type": "stream",
     "text": [
      "Accuracy Check  76.0 %\n"
     ]
    }
   ],
   "source": [
    "prediction = clf.predict(test_x)\n",
    "decision[\"test_set\"]=accuracy_score(prediction,test_y)*100\n",
    "print 'Accuracy Check ',decision[\"test_set\"],'%'"
   ]
  },
  {
   "cell_type": "markdown",
   "metadata": {},
   "source": [
    "# Neural Net Regressor"
   ]
  },
  {
   "cell_type": "code",
   "execution_count": 297,
   "metadata": {
    "collapsed": false
   },
   "outputs": [],
   "source": [
    "from sklearn.neural_network import MLPClassifier"
   ]
  },
  {
   "cell_type": "code",
   "execution_count": 298,
   "metadata": {
    "collapsed": false
   },
   "outputs": [
    {
     "data": {
      "text/plain": [
       "MLPClassifier(activation='relu', algorithm='l-bfgs', alpha=1e-05,\n",
       "       batch_size=200, beta_1=0.9, beta_2=0.999, early_stopping=False,\n",
       "       epsilon=1e-08, hidden_layer_sizes=(50,), learning_rate='constant',\n",
       "       learning_rate_init=0.001, max_iter=200, momentum=0.9,\n",
       "       nesterovs_momentum=True, power_t=0.5, random_state=1, shuffle=True,\n",
       "       tol=0.0001, validation_fraction=0.1, verbose=False,\n",
       "       warm_start=False)"
      ]
     },
     "execution_count": 298,
     "metadata": {},
     "output_type": "execute_result"
    }
   ],
   "source": [
    "neural=dict()\n",
    "clf = MLPClassifier(algorithm='l-bfgs',hidden_layer_sizes=(50,), alpha=1e-5, random_state=1)\n",
    "clf"
   ]
  },
  {
   "cell_type": "code",
   "execution_count": 299,
   "metadata": {
    "collapsed": false
   },
   "outputs": [
    {
     "data": {
      "text/plain": [
       "MLPClassifier(activation='relu', algorithm='l-bfgs', alpha=1e-05,\n",
       "       batch_size=200, beta_1=0.9, beta_2=0.999, early_stopping=False,\n",
       "       epsilon=1e-08, hidden_layer_sizes=(50,), learning_rate='constant',\n",
       "       learning_rate_init=0.001, max_iter=200, momentum=0.9,\n",
       "       nesterovs_momentum=True, power_t=0.5, random_state=1, shuffle=True,\n",
       "       tol=0.0001, validation_fraction=0.1, verbose=False,\n",
       "       warm_start=False)"
      ]
     },
     "execution_count": 299,
     "metadata": {},
     "output_type": "execute_result"
    }
   ],
   "source": [
    "#trainig Network\n",
    "clf.fit(train_x, train_y)"
   ]
  },
  {
   "cell_type": "markdown",
   "metadata": {},
   "source": [
    "# Testing accuracy on training data"
   ]
  },
  {
   "cell_type": "code",
   "execution_count": 300,
   "metadata": {
    "collapsed": false
   },
   "outputs": [
    {
     "name": "stdout",
     "output_type": "stream",
     "text": [
      "Accuracy Check  86.6666666667 %\n"
     ]
    }
   ],
   "source": [
    "#Now testing for trainig data\n",
    "#Now predict values for given classifier\n",
    "prediction = clf.predict(train_x)\n",
    "neural[\"trainig_set\"]=accuracy_score(prediction,train_y)*100\n",
    "print 'Accuracy Check ',neural[\"trainig_set\"],'%'"
   ]
  },
  {
   "cell_type": "markdown",
   "metadata": {},
   "source": [
    "# Testing accuracy on testing data"
   ]
  },
  {
   "cell_type": "code",
   "execution_count": 303,
   "metadata": {
    "collapsed": false
   },
   "outputs": [
    {
     "name": "stdout",
     "output_type": "stream",
     "text": [
      "Accuracy Check  79.0 %\n"
     ]
    }
   ],
   "source": [
    "prediction = clf.predict(test_x)\n",
    "neural[\"test_set\"]=accuracy_score(prediction,test_y)*100\n",
    "print 'Accuracy Check ',neural[\"test_set\"],'%'"
   ]
  },
  {
   "cell_type": "markdown",
   "metadata": {},
   "source": [
    "#  Ploting"
   ]
  },
  {
   "cell_type": "code",
   "execution_count": 310,
   "metadata": {
    "collapsed": false
   },
   "outputs": [],
   "source": [
    "import pylab as plt\n",
    "plt.rcParams['figure.figsize'] = 16, 12"
   ]
  },
  {
   "cell_type": "code",
   "execution_count": 312,
   "metadata": {
    "collapsed": false
   },
   "outputs": [
    {
     "data": {
      "image/png": "[encoded data removed]",
      "text/plain": [
       "<matplotlib.figure.Figure at 0x7fb69c081990>"
      ]
     },
     "metadata": {},
     "output_type": "display_data"
    }
   ],
   "source": [
    "#%pylab inline\n",
    "classifier = [1,2,3]\n",
    "accuracy_test_data=[svm[\"test_set\"],decision[\"test_set\"],neural[\"test_set\"]]\n",
    "LABELS=[\"SVM\",\"Decision-Tree\",\"Neural-net\"]\n",
    "\n",
    "plt.bar(classifier,accuracy_test_data,align='center')\n",
    "plt.xticks(classifier, LABELS) #binding label with x axis data\n",
    "plt.xlabel('Classifier')\n",
    "plt.ylabel('Accuracy')\n",
    "plt.title('Analysis with 2 Class on convolution feature')\n",
    "plt.show()"
   ]
  },
  {
   "cell_type": "code",
   "execution_count": 313,
   "metadata": {
    "collapsed": true
   },
   "outputs": [],
   "source": [
    "#store Processed data in CSV\n",
    "import csv\n"
   ]
  },
  {
   "cell_type": "code",
   "execution_count": 315,
   "metadata": {
    "collapsed": false
   },
   "outputs": [],
   "source": [
    "csvfile=\"sony.csv\"\n",
    "with open(csvfile, \"w\") as output:\n",
    "    writer = csv.writer(output, lineterminator='\\n')\n",
    "    writer.writerows(sony_f)"
   ]
  },
  {
   "cell_type": "code",
   "execution_count": 316,
   "metadata": {
    "collapsed": true
   },
   "outputs": [],
   "source": [
    "csvfile=\"canon.csv\"\n",
    "with open(csvfile, \"w\") as output:\n",
    "    writer = csv.writer(output, lineterminator='\\n')\n",
    "    writer.writerows(canon_f)"
   ]
  },
  {
   "cell_type": "markdown",
   "metadata": {},
   "source": [
    "# Thanks"
   ]
  },
  {
   "cell_type": "code",
   "execution_count": null,
   "metadata": {
    "collapsed": true
   },
   "outputs": [],
   "source": []
  }
 ],
 "metadata": {
  "kernelspec": {
   "display_name": "Python 2",
   "language": "python",
   "name": "python2"
  },
  "language_info": {
   "codemirror_mode": {
    "name": "ipython",
    "version": 2
   },
   "file_extension": ".py",
   "mimetype": "text/x-python",
   "name": "python",
   "nbconvert_exporter": "python",
   "pygments_lexer": "ipython2",
   "version": "2.7.11"
  }
 },
 "nbformat": 4,
 "nbformat_minor": 0
}
