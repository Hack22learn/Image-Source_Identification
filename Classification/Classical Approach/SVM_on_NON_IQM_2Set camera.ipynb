{
 "cells": [
  {
   "cell_type": "markdown",
   "metadata": {},
   "source": [
    "# CLassification of image from 3 set of camera"
   ]
  },
  {
   "cell_type": "code",
   "execution_count": 84,
   "metadata": {
    "collapsed": true
   },
   "outputs": [],
   "source": [
    "import xlrd\n",
    "from sklearn.svm import SVC\n",
    "from sklearn.metrics import accuracy_score\n",
    "from sklearn.preprocessing import normalize\n",
    "import numpy as np"
   ]
  },
  {
   "cell_type": "code",
   "execution_count": 85,
   "metadata": {
    "collapsed": true
   },
   "outputs": [],
   "source": [
    "filename='featurevectors_NONIQM_new.xls'"
   ]
  },
  {
   "cell_type": "code",
   "execution_count": 86,
   "metadata": {
    "collapsed": false,
    "scrolled": true
   },
   "outputs": [
    {
     "data": {
      "text/plain": [
       "<xlrd.book.Book at 0x4e15050>"
      ]
     },
     "execution_count": 86,
     "metadata": {},
     "output_type": "execute_result"
    }
   ],
   "source": [
    "book = xlrd.open_workbook(filename)\n",
    "book"
   ]
  },
  {
   "cell_type": "code",
   "execution_count": 87,
   "metadata": {
    "collapsed": false
   },
   "outputs": [
    {
     "name": "stdout",
     "output_type": "stream",
     "text": [
      "3\n",
      "[u'Nikon', u'Sony', u'Canon']\n"
     ]
    }
   ],
   "source": [
    "# print number of sheets\n",
    "print book.nsheets\n",
    "# print sheet names\n",
    "sheets=book.sheet_names()\n",
    "print sheets"
   ]
  },
  {
   "cell_type": "code",
   "execution_count": 88,
   "metadata": {
    "collapsed": true
   },
   "outputs": [],
   "source": [
    "# get the first worksheet\n",
    "first_sheet = book.sheet_by_index(0)"
   ]
  },
  {
   "cell_type": "code",
   "execution_count": 89,
   "metadata": {
    "collapsed": false
   },
   "outputs": [
    {
     "name": "stdout",
     "output_type": "stream",
     "text": [
      "Row : 144\n",
      "cols:  12\n"
     ]
    }
   ],
   "source": [
    "feature=[]\n",
    "label=[]\n",
    "\n",
    "print 'Row :',first_sheet.nrows\n",
    "print 'cols: ',first_sheet.ncols\n"
   ]
  },
  {
   "cell_type": "code",
   "execution_count": 90,
   "metadata": {
    "collapsed": false
   },
   "outputs": [
    {
     "name": "stdout",
     "output_type": "stream",
     "text": [
      "143\n",
      "143\n"
     ]
    }
   ],
   "source": [
    "#extracting feature from 1st sheet\n",
    "n_rows=first_sheet.nrows\n",
    "for row in range(1,n_rows):\n",
    "    temp=[]\n",
    "    for col in range(first_sheet.ncols):\n",
    "        temp.append(first_sheet.cell(row,col).value)\n",
    "    feature.append(temp)\n",
    "    label.append(0)\n",
    "print len(feature)\n",
    "print len(label)"
   ]
  },
  {
   "cell_type": "code",
   "execution_count": 91,
   "metadata": {
    "collapsed": false
   },
   "outputs": [
    {
     "name": "stdout",
     "output_type": "stream",
     "text": [
      "[97.95123150270217, 114.86093593055938, 103.53887151451514, 1.1093508578027815, 1.1726339135143036, 1.0570451226196034, 9676.0, 254.0, -516994.0, 0.9685322640892147, 0.963856933709594, 0.9391067922702643]\n",
      "0\n"
     ]
    }
   ],
   "source": [
    "print feature[0]\n",
    "print label[0]"
   ]
  },
  {
   "cell_type": "code",
   "execution_count": 92,
   "metadata": {
    "collapsed": false
   },
   "outputs": [
    {
     "name": "stdout",
     "output_type": "stream",
     "text": [
      "286\n",
      "286\n"
     ]
    }
   ],
   "source": [
    "# get the second worksheet\n",
    "second_sheet = book.sheet_by_index(1)\n",
    "#extracting feature from 1st sheet\n",
    "n_rows=second_sheet.nrows\n",
    "for row in range(1,n_rows):\n",
    "    temp=[]\n",
    "    for col in range(second_sheet.ncols):\n",
    "        temp.append(second_sheet.cell(row,col).value)\n",
    "    feature.append(temp)\n",
    "    label.append(1)\n",
    "print len(feature)\n",
    "print len(label)\n"
   ]
  },
  {
   "cell_type": "code",
   "execution_count": 93,
   "metadata": {
    "collapsed": false
   },
   "outputs": [
    {
     "name": "stdout",
     "output_type": "stream",
     "text": [
      "[125.03628645779855, 126.01758404021862, 126.6405654467815, 0.99508071205806, 1.007848102420662, 1.012830507322563, -1097190.0, -1068678.0, -753861.0, 0.992517103267393, 0.9842110992949674, 0.9742003246028724]\n",
      "1\n"
     ]
    }
   ],
   "source": [
    "print feature[144]\n",
    "print label[144]"
   ]
  },
  {
   "cell_type": "code",
   "execution_count": 94,
   "metadata": {
    "collapsed": false
   },
   "outputs": [],
   "source": [
    "#create trainig & testing set\n",
    "training=feature[:125]\n",
    "training_label=label[:125]\n",
    "\n",
    "testing=feature[125:175]\n",
    "testing_label=label[125:175]\n",
    "\n",
    "training += feature[175:]\n",
    "training_label += label[175:]"
   ]
  },
  {
   "cell_type": "code",
   "execution_count": 103,
   "metadata": {
    "collapsed": false
   },
   "outputs": [],
   "source": [
    "#normalization\n",
    "training=normalize(np.asarray(training), norm='l2', axis=1, copy=True)\n",
    "testing = normalize(np.asarray(testing), norm='l2', axis=1, copy=True)\n",
    "#testing=np.asarray(testing)"
   ]
  },
  {
   "cell_type": "code",
   "execution_count": 104,
   "metadata": {
    "collapsed": false
   },
   "outputs": [
    {
     "name": "stdout",
     "output_type": "stream",
     "text": [
      "236\n",
      "236\n"
     ]
    }
   ],
   "source": [
    "print(len(training))\n",
    "print(len(training_label))"
   ]
  },
  {
   "cell_type": "code",
   "execution_count": 105,
   "metadata": {
    "collapsed": false
   },
   "outputs": [],
   "source": [
    "# clsf = classifier\n",
    "clsf=SVC(kernel='rbf',gamma=10,C=1) #SVM Classier"
   ]
  },
  {
   "cell_type": "code",
   "execution_count": 106,
   "metadata": {
    "collapsed": false
   },
   "outputs": [
    {
     "data": {
      "text/plain": [
       "SVC(C=1, cache_size=200, class_weight=None, coef0=0.0,\n",
       "  decision_function_shape=None, degree=3, gamma=10, kernel='rbf',\n",
       "  max_iter=-1, probability=False, random_state=None, shrinking=True,\n",
       "  tol=0.001, verbose=False)"
      ]
     },
     "execution_count": 106,
     "metadata": {},
     "output_type": "execute_result"
    }
   ],
   "source": [
    "#training\n",
    "clsf.fit(training, training_label)"
   ]
  },
  {
   "cell_type": "markdown",
   "metadata": {},
   "source": [
    "# Testing accuracy on training data"
   ]
  },
  {
   "cell_type": "code",
   "execution_count": 107,
   "metadata": {
    "collapsed": false,
    "scrolled": true
   },
   "outputs": [
    {
     "name": "stdout",
     "output_type": "stream",
     "text": [
      "Accuracy Check  81.7796610169 %\n"
     ]
    }
   ],
   "source": [
    "#Now testing for trainig data\n",
    "#Now predict values for given classifier\n",
    "prediction = clsf.predict(training)\n",
    "print 'Accuracy Check ',accuracy_score(prediction,training_label)*100,'%'"
   ]
  },
  {
   "cell_type": "markdown",
   "metadata": {},
   "source": [
    "# Testing accuracy on Testing data"
   ]
  },
  {
   "cell_type": "code",
   "execution_count": 108,
   "metadata": {
    "collapsed": false
   },
   "outputs": [
    {
     "name": "stdout",
     "output_type": "stream",
     "text": [
      "Accuracy Check  84.0 %\n"
     ]
    }
   ],
   "source": [
    "prediction = clsf.predict(testing)\n",
    "print 'Accuracy Check ',accuracy_score(prediction,testing_label)*100,'%'"
   ]
  },
  {
   "cell_type": "code",
   "execution_count": null,
   "metadata": {
    "collapsed": false
   },
   "outputs": [],
   "source": []
  }
 ],
 "metadata": {
  "kernelspec": {
   "display_name": "Python 2",
   "language": "python",
   "name": "python2"
  },
  "language_info": {
   "codemirror_mode": {
    "name": "ipython",
    "version": 2
   },
   "file_extension": ".py",
   "mimetype": "text/x-python",
   "name": "python",
   "nbconvert_exporter": "python",
   "pygments_lexer": "ipython2",
   "version": "2.7.10"
  }
 },
 "nbformat": 4,
 "nbformat_minor": 0
}
